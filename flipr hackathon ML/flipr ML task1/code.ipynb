{
 "cells": [
  {
   "cell_type": "code",
   "execution_count": 91,
   "metadata": {},
   "outputs": [],
   "source": [
    "import pandas as pd\n",
    "df=pd.read_csv(\"C:/Users/MAYANK/Downloads/Train_dataset1.csv\")\n",
    "dft=pd.read_csv(\"C:/Users/MAYANK/Downloads/Test_dataset1.csv\")"
   ]
  },
  {
   "cell_type": "code",
   "execution_count": 92,
   "metadata": {},
   "outputs": [],
   "source": [
    "import numpy as np\n",
    "d = {'Female': 0, 'Male': 1}\n",
    "df['Gender'] = df['Gender'].map(d).fillna(df['Gender'])\n",
    "dft['Gender'] = dft['Gender'].map(d).fillna(df['Gender'])"
   ]
  },
  {
   "cell_type": "code",
   "execution_count": 93,
   "metadata": {},
   "outputs": [],
   "source": [
    "df=df.drop(['Designation'], axis = 1)\n",
    "df=df.drop(['Name'], axis = 1)\n",
    "df=df.drop(['Married'],axis=1)\n",
    "dft=dft.drop(['Designation'], axis = 1)\n",
    "dft=dft.drop(['Name'], axis = 1)\n",
    "dft=dft.drop(['Married'],axis=1)"
   ]
  },
  {
   "cell_type": "code",
   "execution_count": 94,
   "metadata": {},
   "outputs": [
    {
     "name": "stdout",
     "output_type": "stream",
     "text": [
      "(10714, 25)\n",
      "(14498, 24)\n"
     ]
    }
   ],
   "source": [
    "print(df.shape)\n",
    "print(dft.shape)"
   ]
  },
  {
   "cell_type": "code",
   "execution_count": 95,
   "metadata": {},
   "outputs": [
    {
     "name": "stdout",
     "output_type": "stream",
     "text": [
      "(10714, 25)\n",
      "Index(['people_ID', 'Region', 'Gender', 'Children', 'Occupation',\n",
      "       'Mode_transport', 'cases/1M', 'Deaths/1M', 'comorbidity', 'Age',\n",
      "       'Coma score', 'Pulmonary score', 'cardiological pressure', 'Diuresis',\n",
      "       'Platelets', 'HBB', 'd-dimer', 'Heart rate', 'HDL cholesterol',\n",
      "       'Charlson Index', 'Blood Glucose', 'Insurance', 'salary', 'FT/month',\n",
      "       'Infect_Prob'],\n",
      "      dtype='object')\n"
     ]
    }
   ],
   "source": [
    "import numpy as np\n",
    "from sklearn.preprocessing import Imputer\n",
    "imputer = Imputer(missing_values = 'NaN', strategy = 'mean', axis = 0)\n",
    "\n",
    "y=np.array(df['Diuresis'])\n",
    "\n",
    "yt=np.array(dft['Diuresis'])\n",
    "\n",
    "imputer = imputer.fit(pd.DataFrame(y ))\n",
    "y = imputer.transform(pd.DataFrame(y ))\n",
    "df[\"Diuresis\"]=y\n",
    "\n",
    "imputer = imputer.fit(pd.DataFrame(yt ))\n",
    "yt = imputer.transform(pd.DataFrame(yt ))\n",
    "dft[\"Diuresis\"]=yt\n",
    "print(df.shape)\n",
    "print(df.columns)"
   ]
  },
  {
   "cell_type": "code",
   "execution_count": 96,
   "metadata": {},
   "outputs": [],
   "source": [
    "\n",
    "\n",
    "from sklearn.preprocessing import LabelEncoder \n",
    "  \n",
    "le = LabelEncoder() \n",
    "  \n",
    "dft['Region']= le.fit_transform(dft['Region']) \n",
    "dft['Mode_transport']= le.fit_transform(dft['Mode_transport']) \n",
    "dft['comorbidity']= le.fit_transform(dft['comorbidity']) \n",
    "dft['Occupation']= le.fit_transform(dft['Occupation']) \n",
    "\n",
    "dft['cardiological pressure']= le.fit_transform(dft['cardiological pressure']) \n",
    "dft['Pulmonary score']= le.fit_transform(dft['Pulmonary score']) "
   ]
  },
  {
   "cell_type": "code",
   "execution_count": 97,
   "metadata": {},
   "outputs": [
    {
     "data": {
      "text/plain": [
       "(14498, 24)"
      ]
     },
     "execution_count": 97,
     "metadata": {},
     "output_type": "execute_result"
    }
   ],
   "source": [
    "dft.shape"
   ]
  },
  {
   "cell_type": "code",
   "execution_count": 98,
   "metadata": {},
   "outputs": [
    {
     "name": "stdout",
     "output_type": "stream",
     "text": [
      "(10714, 25)\n",
      "Index(['people_ID', 'Region', 'Gender', 'Children', 'Occupation',\n",
      "       'Mode_transport', 'cases/1M', 'Deaths/1M', 'comorbidity', 'Age',\n",
      "       'Coma score', 'Pulmonary score', 'cardiological pressure', 'Diuresis',\n",
      "       'Platelets', 'HBB', 'd-dimer', 'Heart rate', 'HDL cholesterol',\n",
      "       'Charlson Index', 'Blood Glucose', 'Insurance', 'salary', 'FT/month',\n",
      "       'Infect_Prob'],\n",
      "      dtype='object')\n"
     ]
    },
    {
     "data": {
      "text/plain": [
       "(7488, 25)"
      ]
     },
     "execution_count": 98,
     "metadata": {},
     "output_type": "execute_result"
    }
   ],
   "source": [
    "import numpy as np\n",
    "from sklearn.preprocessing import Imputer\n",
    "imputer = Imputer(missing_values = 'NaN', strategy = 'mean', axis = 0)\n",
    "\n",
    "y=np.array(df['Diuresis'])\n",
    "\n",
    "imputer = imputer.fit(pd.DataFrame(y ))\n",
    "y = imputer.transform(pd.DataFrame(y ))\n",
    "df[\"Diuresis\"]=y\n",
    "print(df.shape)\n",
    "print(df.columns)\n",
    "df.dropna(inplace=True)\n",
    "\n",
    "from sklearn.preprocessing import LabelEncoder \n",
    "  \n",
    "le = LabelEncoder() \n",
    "  \n",
    "df['Region']= le.fit_transform(df['Region']) \n",
    "df['Mode_transport']= le.fit_transform(df['Mode_transport']) \n",
    "df['comorbidity']= le.fit_transform(df['comorbidity']) \n",
    "df['Occupation']= le.fit_transform(df['Occupation']) \n",
    "\n",
    "df['cardiological pressure']= le.fit_transform(df['cardiological pressure']) \n",
    "df['Pulmonary score']= le.fit_transform(df['Pulmonary score'])\n",
    "df.shape"
   ]
  },
  {
   "cell_type": "code",
   "execution_count": 99,
   "metadata": {},
   "outputs": [
    {
     "data": {
      "text/html": [
       "<div>\n",
       "<style scoped>\n",
       "    .dataframe tbody tr th:only-of-type {\n",
       "        vertical-align: middle;\n",
       "    }\n",
       "\n",
       "    .dataframe tbody tr th {\n",
       "        vertical-align: top;\n",
       "    }\n",
       "\n",
       "    .dataframe thead th {\n",
       "        text-align: right;\n",
       "    }\n",
       "</style>\n",
       "<table border=\"1\" class=\"dataframe\">\n",
       "  <thead>\n",
       "    <tr style=\"text-align: right;\">\n",
       "      <th></th>\n",
       "      <th>people_ID</th>\n",
       "      <th>Region</th>\n",
       "      <th>Gender</th>\n",
       "      <th>Children</th>\n",
       "      <th>Occupation</th>\n",
       "      <th>Mode_transport</th>\n",
       "      <th>cases/1M</th>\n",
       "      <th>Deaths/1M</th>\n",
       "      <th>comorbidity</th>\n",
       "      <th>Age</th>\n",
       "      <th>...</th>\n",
       "      <th>HBB</th>\n",
       "      <th>d-dimer</th>\n",
       "      <th>Heart rate</th>\n",
       "      <th>HDL cholesterol</th>\n",
       "      <th>Charlson Index</th>\n",
       "      <th>Blood Glucose</th>\n",
       "      <th>Insurance</th>\n",
       "      <th>salary</th>\n",
       "      <th>FT/month</th>\n",
       "      <th>Infect_Prob</th>\n",
       "    </tr>\n",
       "  </thead>\n",
       "  <tbody>\n",
       "    <tr>\n",
       "      <th>0</th>\n",
       "      <td>1</td>\n",
       "      <td>1</td>\n",
       "      <td>0</td>\n",
       "      <td>1.0</td>\n",
       "      <td>4</td>\n",
       "      <td>1</td>\n",
       "      <td>2</td>\n",
       "      <td>0</td>\n",
       "      <td>2</td>\n",
       "      <td>68</td>\n",
       "      <td>...</td>\n",
       "      <td>93.0</td>\n",
       "      <td>233.0</td>\n",
       "      <td>82.0</td>\n",
       "      <td>58.0</td>\n",
       "      <td>27</td>\n",
       "      <td>7</td>\n",
       "      <td>3600000.0</td>\n",
       "      <td>1300000</td>\n",
       "      <td>2.0</td>\n",
       "      <td>49.135010</td>\n",
       "    </tr>\n",
       "    <tr>\n",
       "      <th>1</th>\n",
       "      <td>2</td>\n",
       "      <td>1</td>\n",
       "      <td>0</td>\n",
       "      <td>2.0</td>\n",
       "      <td>4</td>\n",
       "      <td>2</td>\n",
       "      <td>2</td>\n",
       "      <td>0</td>\n",
       "      <td>1</td>\n",
       "      <td>64</td>\n",
       "      <td>...</td>\n",
       "      <td>56.0</td>\n",
       "      <td>328.0</td>\n",
       "      <td>89.0</td>\n",
       "      <td>68.0</td>\n",
       "      <td>5</td>\n",
       "      <td>6</td>\n",
       "      <td>1600000.0</td>\n",
       "      <td>400000</td>\n",
       "      <td>1.0</td>\n",
       "      <td>51.147880</td>\n",
       "    </tr>\n",
       "    <tr>\n",
       "      <th>2</th>\n",
       "      <td>3</td>\n",
       "      <td>1</td>\n",
       "      <td>0</td>\n",
       "      <td>1.0</td>\n",
       "      <td>1</td>\n",
       "      <td>1</td>\n",
       "      <td>2</td>\n",
       "      <td>0</td>\n",
       "      <td>3</td>\n",
       "      <td>19</td>\n",
       "      <td>...</td>\n",
       "      <td>137.0</td>\n",
       "      <td>213.0</td>\n",
       "      <td>77.0</td>\n",
       "      <td>43.0</td>\n",
       "      <td>40</td>\n",
       "      <td>6</td>\n",
       "      <td>3400000.0</td>\n",
       "      <td>900000</td>\n",
       "      <td>1.0</td>\n",
       "      <td>73.224000</td>\n",
       "    </tr>\n",
       "    <tr>\n",
       "      <th>3</th>\n",
       "      <td>4</td>\n",
       "      <td>1</td>\n",
       "      <td>0</td>\n",
       "      <td>1.0</td>\n",
       "      <td>3</td>\n",
       "      <td>0</td>\n",
       "      <td>2</td>\n",
       "      <td>0</td>\n",
       "      <td>0</td>\n",
       "      <td>33</td>\n",
       "      <td>...</td>\n",
       "      <td>167.0</td>\n",
       "      <td>275.0</td>\n",
       "      <td>64.0</td>\n",
       "      <td>60.0</td>\n",
       "      <td>27</td>\n",
       "      <td>7</td>\n",
       "      <td>700000.0</td>\n",
       "      <td>2300000</td>\n",
       "      <td>1.0</td>\n",
       "      <td>48.779225</td>\n",
       "    </tr>\n",
       "    <tr>\n",
       "      <th>4</th>\n",
       "      <td>5</td>\n",
       "      <td>1</td>\n",
       "      <td>0</td>\n",
       "      <td>2.0</td>\n",
       "      <td>6</td>\n",
       "      <td>0</td>\n",
       "      <td>2</td>\n",
       "      <td>0</td>\n",
       "      <td>1</td>\n",
       "      <td>23</td>\n",
       "      <td>...</td>\n",
       "      <td>153.0</td>\n",
       "      <td>331.0</td>\n",
       "      <td>71.0</td>\n",
       "      <td>64.0</td>\n",
       "      <td>32</td>\n",
       "      <td>7</td>\n",
       "      <td>3200000.0</td>\n",
       "      <td>1100000</td>\n",
       "      <td>1.0</td>\n",
       "      <td>87.868800</td>\n",
       "    </tr>\n",
       "  </tbody>\n",
       "</table>\n",
       "<p>5 rows × 25 columns</p>\n",
       "</div>"
      ],
      "text/plain": [
       "   people_ID  Region  Gender  Children  Occupation  Mode_transport  cases/1M  \\\n",
       "0          1       1       0       1.0           4               1         2   \n",
       "1          2       1       0       2.0           4               2         2   \n",
       "2          3       1       0       1.0           1               1         2   \n",
       "3          4       1       0       1.0           3               0         2   \n",
       "4          5       1       0       2.0           6               0         2   \n",
       "\n",
       "   Deaths/1M  comorbidity  Age     ...         HBB  d-dimer  Heart rate  \\\n",
       "0          0            2   68     ...        93.0    233.0        82.0   \n",
       "1          0            1   64     ...        56.0    328.0        89.0   \n",
       "2          0            3   19     ...       137.0    213.0        77.0   \n",
       "3          0            0   33     ...       167.0    275.0        64.0   \n",
       "4          0            1   23     ...       153.0    331.0        71.0   \n",
       "\n",
       "   HDL cholesterol  Charlson Index  Blood Glucose  Insurance   salary  \\\n",
       "0             58.0              27              7  3600000.0  1300000   \n",
       "1             68.0               5              6  1600000.0   400000   \n",
       "2             43.0              40              6  3400000.0   900000   \n",
       "3             60.0              27              7   700000.0  2300000   \n",
       "4             64.0              32              7  3200000.0  1100000   \n",
       "\n",
       "   FT/month  Infect_Prob  \n",
       "0       2.0    49.135010  \n",
       "1       1.0    51.147880  \n",
       "2       1.0    73.224000  \n",
       "3       1.0    48.779225  \n",
       "4       1.0    87.868800  \n",
       "\n",
       "[5 rows x 25 columns]"
      ]
     },
     "execution_count": 99,
     "metadata": {},
     "output_type": "execute_result"
    }
   ],
   "source": [
    "# df=pd.DataFrame(df)\n",
    "df.head(5)\n",
    "# df.shape"
   ]
  },
  {
   "cell_type": "code",
   "execution_count": 101,
   "metadata": {},
   "outputs": [
    {
     "name": "stdout",
     "output_type": "stream",
     "text": [
      "0    49.135010\n",
      "1    51.147880\n",
      "2    73.224000\n",
      "3    48.779225\n",
      "4    87.868800\n",
      "Name: Infect_Prob, dtype: float64\n",
      "   people_ID  Region  Gender  Children  Occupation  Mode_transport  cases/1M  \\\n",
      "0          1       1       0       1.0           4               1         2   \n",
      "1          2       1       0       2.0           4               2         2   \n",
      "2          3       1       0       1.0           1               1         2   \n",
      "3          4       1       0       1.0           3               0         2   \n",
      "4          5       1       0       2.0           6               0         2   \n",
      "\n",
      "   Deaths/1M  comorbidity  Age    ...     Platelets    HBB  d-dimer  \\\n",
      "0          0            2   68    ...         154.0   93.0    233.0   \n",
      "1          0            1   64    ...         121.0   56.0    328.0   \n",
      "2          0            3   19    ...         124.0  137.0    213.0   \n",
      "3          0            0   33    ...          98.0  167.0    275.0   \n",
      "4          0            1   23    ...          21.0  153.0    331.0   \n",
      "\n",
      "   Heart rate  HDL cholesterol  Charlson Index  Blood Glucose  Insurance  \\\n",
      "0        82.0             58.0              27              7  3600000.0   \n",
      "1        89.0             68.0               5              6  1600000.0   \n",
      "2        77.0             43.0              40              6  3400000.0   \n",
      "3        64.0             60.0              27              7   700000.0   \n",
      "4        71.0             64.0              32              7  3200000.0   \n",
      "\n",
      "    salary  FT/month  \n",
      "0  1300000       2.0  \n",
      "1   400000       1.0  \n",
      "2   900000       1.0  \n",
      "3  2300000       1.0  \n",
      "4  1100000       1.0  \n",
      "\n",
      "[5 rows x 24 columns]\n"
     ]
    }
   ],
   "source": [
    "\n",
    "x=df.iloc[:,:-1]\n",
    "y=df.iloc[:,-1]\n",
    "print(y.head())\n",
    "print(x.head())"
   ]
  },
  {
   "cell_type": "code",
   "execution_count": 102,
   "metadata": {},
   "outputs": [
    {
     "ename": "NameError",
     "evalue": "name 'LinearRegression' is not defined",
     "output_type": "error",
     "traceback": [
      "\u001b[1;31m---------------------------------------------------------------------------\u001b[0m",
      "\u001b[1;31mNameError\u001b[0m                                 Traceback (most recent call last)",
      "\u001b[1;32m<ipython-input-102-5767336cef64>\u001b[0m in \u001b[0;36m<module>\u001b[1;34m()\u001b[0m\n\u001b[0;32m      5\u001b[0m \u001b[1;33m\u001b[0m\u001b[0m\n\u001b[0;32m      6\u001b[0m \u001b[0mpoly\u001b[0m\u001b[1;33m.\u001b[0m\u001b[0mfit\u001b[0m\u001b[1;33m(\u001b[0m\u001b[0mX_poly\u001b[0m\u001b[1;33m,\u001b[0m \u001b[0my\u001b[0m\u001b[1;33m)\u001b[0m\u001b[1;33m\u001b[0m\u001b[0m\n\u001b[1;32m----> 7\u001b[1;33m \u001b[0mlin2\u001b[0m \u001b[1;33m=\u001b[0m \u001b[0mLinearRegression\u001b[0m\u001b[1;33m(\u001b[0m\u001b[1;33m)\u001b[0m\u001b[1;33m\u001b[0m\u001b[0m\n\u001b[0m\u001b[0;32m      8\u001b[0m \u001b[0mlin2\u001b[0m\u001b[1;33m.\u001b[0m\u001b[0mfit\u001b[0m\u001b[1;33m(\u001b[0m\u001b[0mX_poly\u001b[0m\u001b[1;33m,\u001b[0m \u001b[0my\u001b[0m\u001b[1;33m)\u001b[0m\u001b[1;33m\u001b[0m\u001b[0m\n",
      "\u001b[1;31mNameError\u001b[0m: name 'LinearRegression' is not defined"
     ]
    }
   ],
   "source": [
    "from sklearn.preprocessing import PolynomialFeatures \n",
    "  \n",
    "poly = PolynomialFeatures(degree = 3) \n",
    "X_poly = poly.fit_transform(x)\n",
    "\n",
    "  \n",
    "poly.fit(X_poly, y)"
   ]
  },
  {
   "cell_type": "code",
   "execution_count": null,
   "metadata": {},
   "outputs": [],
   "source": []
  },
  {
   "cell_type": "code",
   "execution_count": 104,
   "metadata": {},
   "outputs": [
    {
     "data": {
      "text/plain": [
       "LinearRegression(copy_X=True, fit_intercept=True, n_jobs=1, normalize=False)"
      ]
     },
     "execution_count": 104,
     "metadata": {},
     "output_type": "execute_result"
    }
   ],
   "source": [
    "from sklearn.linear_model import LinearRegression\n",
    "from sklearn import metrics\n",
    " \n",
    "lin2 = LinearRegression() \n",
    "lin2.fit(X_poly, y)"
   ]
  },
  {
   "cell_type": "code",
   "execution_count": 106,
   "metadata": {},
   "outputs": [],
   "source": [
    "x_tst = poly.fit_transform(dft)\n",
    "y_predp=lin2.predict(x_tst)"
   ]
  },
  {
   "cell_type": "code",
   "execution_count": 111,
   "metadata": {},
   "outputs": [],
   "source": [
    "y_predp=abs(y_predp)\n",
    "y_predp=pd.DataFrame(y_predp)"
   ]
  },
  {
   "cell_type": "code",
   "execution_count": 113,
   "metadata": {},
   "outputs": [],
   "source": []
  },
  {
   "cell_type": "code",
   "execution_count": 117,
   "metadata": {},
   "outputs": [],
   "source": [
    "pid=dft[\"people_ID\"]\n",
    "pid=pd.DataFrame(pid)\n"
   ]
  },
  {
   "cell_type": "code",
   "execution_count": 126,
   "metadata": {},
   "outputs": [],
   "source": [
    "lst=[pid,y_predp]\n",
    "xx=pd.concat(lst,axis=1)\n",
    "xx.to_csv(\"C:/Users/MAYANK/Downloads/pred.csv\",index=False)"
   ]
  },
  {
   "cell_type": "code",
   "execution_count": 127,
   "metadata": {},
   "outputs": [
    {
     "data": {
      "text/plain": [
       "-5.414064958590716"
      ]
     },
     "execution_count": 127,
     "metadata": {},
     "output_type": "execute_result"
    }
   ],
   "source": [
    "lin2.score(x_tst,y_predp)"
   ]
  },
  {
   "cell_type": "code",
   "execution_count": null,
   "metadata": {},
   "outputs": [],
   "source": []
  }
 ],
 "metadata": {
  "kernelspec": {
   "display_name": "Python 3",
   "language": "python",
   "name": "python3"
  },
  "language_info": {
   "codemirror_mode": {
    "name": "ipython",
    "version": 3
   },
   "file_extension": ".py",
   "mimetype": "text/x-python",
   "name": "python",
   "nbconvert_exporter": "python",
   "pygments_lexer": "ipython3",
   "version": "3.6.5"
  }
 },
 "nbformat": 4,
 "nbformat_minor": 2
}
